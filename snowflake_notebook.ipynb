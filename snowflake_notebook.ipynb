{
 "cells": [
  {
   "cell_type": "markdown",
   "id": "793a11b0-d11f-4a27-9c16-94071acf1d46",
   "metadata": {},
   "source": [
    "# Imports"
   ]
  },
  {
   "cell_type": "markdown",
   "id": "d9a83b39-8972-4980-860e-a78eeea6203f",
   "metadata": {},
   "source": [
    "Requires libs versions to be listed on the Snowflake Anaconda Channel or provided manually in the conda_dependencies argument when pushing to model registry\n",
    "https://repo.anaconda.com/pkgs/snowflake/"
   ]
  },
  {
   "cell_type": "code",
   "execution_count": 5,
   "id": "3dae6085-c5f6-400a-9ab1-1650d34cb779",
   "metadata": {},
   "outputs": [],
   "source": [
    "# pip install jupytext"
   ]
  },
  {
   "cell_type": "code",
   "execution_count": 4,
   "id": "795449f6-ebff-4ead-9141-f64465ae10c5",
   "metadata": {},
   "outputs": [],
   "source": [
    "# pip install mpu"
   ]
  },
  {
   "cell_type": "code",
   "execution_count": 5,
   "id": "abc730e8-5faf-4ef8-9145-6d2ff5789017",
   "metadata": {},
   "outputs": [],
   "source": [
    "# !conda install -c https://repo.anaconda.com/pkgs/snowflake \\\n",
    "#     numpy scikit-learn pandas pyproj seaborn scipy \\\n",
    "#     snowflake-snowpark-python snowflake-ml-python -y"
   ]
  },
  {
   "cell_type": "code",
   "execution_count": 112,
   "id": "af54b88f-8539-4160-8872-28f7a3fd3306",
   "metadata": {},
   "outputs": [],
   "source": [
    "from snowflake.ml.model import model_signature"
   ]
  },
  {
   "cell_type": "code",
   "execution_count": 114,
   "id": "660fc603-05e6-4d2d-ac34-77dbcd9a7c30",
   "metadata": {},
   "outputs": [],
   "source": [
    "import numpy as np\n",
    "import pandas as pd\n",
    "import random\n",
    "from sklearn.metrics import r2_score\n",
    "from sklearn import metrics\n",
    "from snowflake.ml.modeling.linear_model import LinearRegression\n",
    "# from sklearn.ensemble import RandomForestRegressor\n",
    "from snowflake.ml.modeling.ensemble import RandomForestRegressor\n",
    "import mpu\n",
    "import pyproj\n",
    "import seaborn as sns\n",
    "import matplotlib.pyplot as plt\n",
    "from sklearn.model_selection import train_test_split\n",
    "from scipy import stats\n",
    "from snowflake.ml.modeling.tree import DecisionTreeRegressor\n",
    "from sklearn.tree import export_graphviz"
   ]
  },
  {
   "cell_type": "markdown",
   "id": "96bd7400-47ec-4650-a037-d79268697ad7",
   "metadata": {},
   "source": [
    "# Snowflake setup"
   ]
  },
  {
   "cell_type": "code",
   "execution_count": 117,
   "id": "31ac6617-9dca-4509-8cdd-34c792c9123c",
   "metadata": {},
   "outputs": [],
   "source": [
    "# USE ROLE ACCOUNTADMIN;\n",
    "# CREATE OR REPLACE WAREHOUSE REG_MODEL_WH;--by default, this creates an XS Standard Warehouse\n",
    "# CREATE OR REPLACE DATABASE REG_MODEL_DB; -- will be used to store the custom model\n",
    "# CREATE OR REPLACE SCHEMA REG_MODEL_SCHEMA;  -- will be used to store the custom model"
   ]
  },
  {
   "cell_type": "code",
   "execution_count": 119,
   "id": "3d0aa7a6-3a9a-460f-b161-2556498fced0",
   "metadata": {},
   "outputs": [],
   "source": [
    "from snowflake.snowpark import Session\n",
    "from snowflake.snowpark.version import VERSION\n",
    "\n",
    "from snowflake.ml.registry import Registry\n",
    "from snowflake.ml.model import custom_model\n",
    "from snowflake.ml.model import model_signature\n",
    "\n",
    "# from pycaret.classification import predict_model, load_model\n",
    "import json\n",
    "import os\n",
    "import shutil\n",
    "# warning suppresion\n",
    "import warnings; warnings.simplefilter('ignore')\n",
    "current_year = 2025"
   ]
  },
  {
   "cell_type": "code",
   "execution_count": 126,
   "id": "c3c88693-6cba-4c26-8078-a2b002b2b182",
   "metadata": {},
   "outputs": [
    {
     "name": "stdin",
     "output_type": "stream",
     "text": [
      " ········\n"
     ]
    },
    {
     "name": "stdout",
     "output_type": "stream",
     "text": [
      "\n",
      "Connection Established with the following parameters:\n",
      "User                        : KILCZUK\n",
      "Role                        : \"ACCOUNTADMIN\"\n",
      "Database                    : \"REG_MODEL_DB\"\n",
      "Schema                      : \"REG_MODEL_SCHEMA\"\n",
      "Warehouse                   : \"REG_MODEL_WH\"\n",
      "Snowflake version           : 9.6.0\n",
      "Snowpark for Python version : 1.28.0\n"
     ]
    }
   ],
   "source": [
    "import getpass\n",
    "connection_parameters = json.load(open('connection.json'))\n",
    "connection_parameters['password'] = getpass.getpass()\n",
    "\n",
    "session = Session.builder.configs(connection_parameters).create()\n",
    "\n",
    "snowflake_environment = session.sql('SELECT current_user(), current_version()').collect()\n",
    "snowpark_version = VERSION\n",
    "\n",
    "# Current Environment Details\n",
    "print('\\nConnection Established with the following parameters:')\n",
    "print('User                        : {}'.format(snowflake_environment[0][0]))\n",
    "print('Role                        : {}'.format(session.get_current_role()))\n",
    "print('Database                    : {}'.format(session.get_current_database()))\n",
    "print('Schema                      : {}'.format(session.get_current_schema()))\n",
    "print('Warehouse                   : {}'.format(session.get_current_warehouse()))\n",
    "print('Snowflake version           : {}'.format(snowflake_environment[0][1]))\n",
    "print('Snowpark for Python version : {}.{}.{}'.format(snowpark_version[0],snowpark_version[1],snowpark_version[2]))"
   ]
  },
  {
   "cell_type": "code",
   "execution_count": 1,
   "id": "26ef470f-936b-4783-9927-7adc58d5272a",
   "metadata": {},
   "outputs": [
    {
     "data": {
      "text/plain": [
       "5"
      ]
     },
     "execution_count": 1,
     "metadata": {},
     "output_type": "execute_result"
    }
   ],
   "source": [
    "2+3"
   ]
  }
 ],
 "metadata": {
  "kernelspec": {
   "display_name": "Python [conda env:anaconda3]",
   "language": "python",
   "name": "conda-env-anaconda3-py"
  },
  "language_info": {
   "codemirror_mode": {
    "name": "ipython",
    "version": 3
   },
   "file_extension": ".py",
   "mimetype": "text/x-python",
   "name": "python",
   "nbconvert_exporter": "python",
   "pygments_lexer": "ipython3",
   "version": "3.12.7"
  }
 },
 "nbformat": 4,
 "nbformat_minor": 5
}
